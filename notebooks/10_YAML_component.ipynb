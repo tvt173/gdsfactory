{
 "cells": [
  {
   "cell_type": "markdown",
   "metadata": {},
   "source": [
    "# YAML component place and route\n",
    "\n",
    "\n",
    "We can define a place and route component by a netlist in YAML format"
   ]
  },
  {
   "cell_type": "code",
   "execution_count": null,
   "metadata": {
    "attributes": {
     "classes": [],
     "id": "",
     "n": "5"
    }
   },
   "outputs": [],
   "source": [
    "import pp\n",
    "\n",
    "yaml = \"\"\"\n",
    "instances:\n",
    "    mmi_long:\n",
    "      component: mmi1x2\n",
    "      settings:\n",
    "        width_mmi: 4.5\n",
    "        length_mmi: 10\n",
    "    mmi_short:\n",
    "      component: mmi1x2\n",
    "      settings:\n",
    "        width_mmi: 4.5\n",
    "        length_mmi: 5\n",
    "\"\"\"\n",
    "\n",
    "c = pp.component_from_yaml(yaml)\n",
    "pp.show(c)\n",
    "pp.plotgds(c)"
   ]
  },
  {
   "cell_type": "code",
   "execution_count": null,
   "metadata": {},
   "outputs": [],
   "source": [
    "c.instances"
   ]
  },
  {
   "cell_type": "code",
   "execution_count": null,
   "metadata": {},
   "outputs": [],
   "source": [
    "c.instances['mmi_long'].x = 100"
   ]
  },
  {
   "cell_type": "code",
   "execution_count": null,
   "metadata": {},
   "outputs": [],
   "source": [
    "pp.show(c)\n",
    "pp.plotgds(c)"
   ]
  },
  {
   "cell_type": "code",
   "execution_count": null,
   "metadata": {},
   "outputs": [],
   "source": [
    "import pp\n",
    "\n",
    "yaml = \"\"\"\n",
    "instances:\n",
    "    mmi_long:\n",
    "      component: mmi1x2\n",
    "      settings:\n",
    "        width_mmi: 4.5\n",
    "        length_mmi: 5\n",
    "placements:        \n",
    "    mmi_long:\n",
    "        anchor: E0\n",
    "        x: 20\n",
    "        y: 10\n",
    "        mirror: True\n",
    "\"\"\"\n",
    "\n",
    "c = pp.component_from_yaml(yaml)\n",
    "pp.show(c)\n",
    "pp.plotgds(c)"
   ]
  },
  {
   "cell_type": "code",
   "execution_count": null,
   "metadata": {},
   "outputs": [],
   "source": [
    "import pp\n",
    "\n",
    "yaml = \"\"\"\n",
    "instances:\n",
    "    mmi_long:\n",
    "      component: mmi1x2\n",
    "      settings:\n",
    "        width_mmi: 4.5\n",
    "        length_mmi: 5\n",
    "placements:        \n",
    "    mmi_long:\n",
    "        anchor: E0\n",
    "        x: 20\n",
    "        y: 10\n",
    "        mirror: True\n",
    "        \n",
    "\"\"\"\n",
    "\n",
    "c = pp.component_from_yaml(yaml)\n",
    "pp.show(c)\n",
    "pp.plotgds(c)"
   ]
  },
  {
   "cell_type": "code",
   "execution_count": null,
   "metadata": {},
   "outputs": [],
   "source": [
    "import pp\n",
    "\n",
    "yaml = \"\"\"\n",
    "instances:\n",
    "    mmi_long:\n",
    "      component: mmi1x2\n",
    "      settings:\n",
    "        width_mmi: 4.5\n",
    "        length_mmi: 5\n",
    "placements:        \n",
    "    mmi_long:\n",
    "        x: 0\n",
    "        y: 0\n",
    "        mirror: W0\n",
    "\"\"\"\n",
    "\n",
    "c = pp.component_from_yaml(yaml)\n",
    "pp.show(c)\n",
    "pp.plotgds(c)"
   ]
  },
  {
   "cell_type": "code",
   "execution_count": null,
   "metadata": {},
   "outputs": [],
   "source": [
    "\n",
    "import pp\n",
    "\n",
    "yaml = \"\"\"\n",
    "instances:\n",
    "    mmi_long:\n",
    "      component: mmi1x2\n",
    "      settings:\n",
    "        width_mmi: 4.5\n",
    "        length_mmi: 5\n",
    "placements:        \n",
    "    mmi_long:\n",
    "        x: 0\n",
    "        y: 0\n",
    "        mirror: 25\n",
    "\"\"\"\n",
    "\n",
    "c = pp.component_from_yaml(yaml)\n",
    "pp.show(c)\n",
    "pp.plotgds(c)"
   ]
  },
  {
   "cell_type": "code",
   "execution_count": null,
   "metadata": {},
   "outputs": [],
   "source": [
    "import pp\n",
    "\n",
    "yaml = \"\"\"\n",
    "instances:\n",
    "    mmi_long:\n",
    "      component: mmi1x2\n",
    "      settings:\n",
    "        width_mmi: 4.5\n",
    "        length_mmi: 5\n",
    "placements:        \n",
    "    mmi_long:\n",
    "        anchor: W0\n",
    "        x: 10\n",
    "        y: 20\n",
    "        rotation: 90\n",
    "\"\"\"\n",
    "\n",
    "c = pp.component_from_yaml(yaml)\n",
    "pp.show(c)\n",
    "pp.plotgds(c)"
   ]
  },
  {
   "cell_type": "code",
   "execution_count": null,
   "metadata": {},
   "outputs": [],
   "source": [
    "import pp\n",
    "\n",
    "yaml = \"\"\"\n",
    "instances:\n",
    "    mmi_long:\n",
    "      component: mmi1x2\n",
    "      settings:\n",
    "        width_mmi: 4.5\n",
    "        length_mmi: 5\n",
    "placements:        \n",
    "    mmi_long:\n",
    "        x: 0\n",
    "        y: 0\n",
    "        rotation: 90\n",
    "\"\"\"\n",
    "\n",
    "c = pp.component_from_yaml(yaml)\n",
    "pp.show(c)\n",
    "pp.plotgds(c)"
   ]
  },
  {
   "cell_type": "code",
   "execution_count": null,
   "metadata": {},
   "outputs": [],
   "source": [
    "c.size_info.north"
   ]
  },
  {
   "cell_type": "code",
   "execution_count": null,
   "metadata": {},
   "outputs": [],
   "source": [
    "c.size_info.east"
   ]
  },
  {
   "cell_type": "code",
   "execution_count": null,
   "metadata": {},
   "outputs": [],
   "source": [
    "import pp\n",
    "\n",
    "yaml = \"\"\"\n",
    "instances:\n",
    "    wg:\n",
    "      component: waveguide\n",
    "    mmi_long:\n",
    "      component: mmi1x2\n",
    "      settings:\n",
    "        width_mmi: 4.5\n",
    "        length_mmi: 10\n",
    "    mmi_short:\n",
    "      component: mmi1x2\n",
    "      settings:\n",
    "        width_mmi: 4.5\n",
    "        length_mmi: 5\n",
    "placements:\n",
    "    mmi_short:\n",
    "        anchor: W0\n",
    "        x: 10\n",
    "        y: 20\n",
    "connections:\n",
    "    wg,W0 : mmi_short,E1\n",
    "    wg,E0 : mmi_long,W0\n",
    "\n",
    "\"\"\"\n",
    "\n",
    "\n",
    "c = pp.component_from_yaml(yaml)\n",
    "pp.show(c)\n",
    "pp.plotgds(c)"
   ]
  },
  {
   "cell_type": "code",
   "execution_count": null,
   "metadata": {},
   "outputs": [],
   "source": [
    "from omegaconf import OmegaConf\n",
    "import io\n"
   ]
  },
  {
   "cell_type": "code",
   "execution_count": null,
   "metadata": {},
   "outputs": [],
   "source": [
    "d = OmegaConf.load(io.StringIO(\n",
    "\"\"\"\n",
    "x: \n",
    "    - mmi_short,E0\n",
    "    - +10\n",
    "\n",
    "\"\"\"\n",
    "))\n",
    "d"
   ]
  },
  {
   "cell_type": "code",
   "execution_count": null,
   "metadata": {},
   "outputs": [],
   "source": []
  },
  {
   "cell_type": "code",
   "execution_count": null,
   "metadata": {},
   "outputs": [],
   "source": [
    "d.keys()"
   ]
  },
  {
   "cell_type": "code",
   "execution_count": null,
   "metadata": {},
   "outputs": [],
   "source": [
    "import pp\n",
    "\n",
    "yaml = \"\"\"\n",
    "instances:\n",
    "    mmi_long:\n",
    "      component: mmi1x2\n",
    "      settings:\n",
    "        width_mmi: 4.5\n",
    "        length_mmi: 10\n",
    "    mmi_short:\n",
    "      component: mmi1x2\n",
    "      settings:\n",
    "        width_mmi: 4.5\n",
    "        length_mmi: 5\n",
    "\n",
    "placements:\n",
    "    mmi_short:\n",
    "        anchor: W0\n",
    "        x: 0\n",
    "        y: 0\n",
    "    mmi_long:\n",
    "        anchor: W0\n",
    "        x: mmi_short,E1\n",
    "        y: \n",
    "            - mmi_short,E1\n",
    "            - 10\n",
    "\"\"\"\n",
    "\n",
    "\n",
    "c = pp.component_from_yaml(yaml)\n",
    "pp.show(c)\n",
    "pp.plotgds(c)"
   ]
  },
  {
   "cell_type": "code",
   "execution_count": null,
   "metadata": {},
   "outputs": [],
   "source": [
    "import pp\n",
    "\n",
    "yaml = \"\"\"\n",
    "instances:\n",
    "    mmi_long:\n",
    "      component: mmi1x2\n",
    "      settings:\n",
    "        width_mmi: 4.5\n",
    "        length_mmi: 10\n",
    "    mmi_short:\n",
    "      component: mmi1x2\n",
    "      settings:\n",
    "        width_mmi: 4.5\n",
    "        length_mmi: 5\n",
    "\n",
    "placements:\n",
    "    mmi_short:\n",
    "        anchor: W0\n",
    "        x: 0\n",
    "        y: 0\n",
    "    mmi_long:\n",
    "        anchor: W0\n",
    "        x: mmi_short,E1\n",
    "        y: mmi_short,E1\n",
    "        dx: 10\n",
    "        dy: -10\n",
    "\"\"\"\n",
    "\n",
    "\n",
    "c = pp.component_from_yaml(yaml)\n",
    "pp.show(c)\n",
    "pp.plotgds(c)"
   ]
  },
  {
   "cell_type": "code",
   "execution_count": null,
   "metadata": {},
   "outputs": [],
   "source": [
    "print(d)"
   ]
  },
  {
   "cell_type": "code",
   "execution_count": null,
   "metadata": {},
   "outputs": [],
   "source": [
    "hasattr(1, '__iter__')"
   ]
  },
  {
   "cell_type": "code",
   "execution_count": null,
   "metadata": {},
   "outputs": [],
   "source": [
    "import pp\n",
    "\n",
    "yaml = \"\"\"\n",
    "instances:\n",
    "    mmi_long:\n",
    "      component: mmi1x2\n",
    "      settings:\n",
    "        width_mmi: 4.5\n",
    "        length_mmi: 10\n",
    "    mmi_short:\n",
    "      component: mmi1x2\n",
    "      settings:\n",
    "        width_mmi: 4.5\n",
    "        length_mmi: 5\n",
    "placements:\n",
    "    mmi_long:\n",
    "        x: 100\n",
    "        y: 100\n",
    "routes:\n",
    "    optical:\n",
    "        factory: optical\n",
    "        links:\n",
    "            mmi_short,e1: mmi_long,w0\n",
    "\"\"\"\n",
    "\n",
    "\n",
    "c = pp.component_from_yaml(yaml)\n",
    "pp.show(c)\n",
    "pp.plotgds(c)"
   ]
  },
  {
   "cell_type": "markdown",
   "metadata": {},
   "source": [
    "You can **rotate** and instance specifying the angle in degrees"
   ]
  },
  {
   "cell_type": "code",
   "execution_count": null,
   "metadata": {},
   "outputs": [],
   "source": [
    "import pp\n",
    "\n",
    "yaml = \"\"\"\n",
    "instances:\n",
    "    mmi_long:\n",
    "      component: mmi1x2\n",
    "      settings:\n",
    "        width_mmi: 4.5\n",
    "        length_mmi: 10\n",
    "    mmi_short:\n",
    "      component: mmi1x2\n",
    "      settings:\n",
    "        width_mmi: 4.5\n",
    "        length_mmi: 5\n",
    "        \n",
    "placements:\n",
    "    mmi_long:\n",
    "        rotation: 180\n",
    "        x: 100\n",
    "        y: 100\n",
    "routes:\n",
    "    optical:\n",
    "        factory: optical\n",
    "        links:\n",
    "            mmi_short,E1: mmi_long,E0\n",
    "\"\"\"\n",
    "\n",
    "\n",
    "c = pp.component_from_yaml(yaml)\n",
    "pp.show(c)\n",
    "pp.plotgds(c)"
   ]
  },
  {
   "cell_type": "markdown",
   "metadata": {},
   "source": [
    "You can also define ports for the component"
   ]
  },
  {
   "cell_type": "code",
   "execution_count": null,
   "metadata": {},
   "outputs": [],
   "source": [
    "import pp\n",
    "\n",
    "yaml = \"\"\"\n",
    "instances:\n",
    "    mmi_long:\n",
    "      component: mmi1x2\n",
    "      settings:\n",
    "        width_mmi: 4.5\n",
    "        length_mmi: 10\n",
    "    mmi_short:\n",
    "      component: mmi1x2\n",
    "      settings:\n",
    "        width_mmi: 4.5\n",
    "        length_mmi: 5\n",
    "        \n",
    "placements:\n",
    "    mmi_long:\n",
    "        rotation: 180\n",
    "        x: 100\n",
    "        y: 100\n",
    "        \n",
    "routes:\n",
    "    optical:\n",
    "        factory: optical\n",
    "        links:\n",
    "            mmi_short,E1: mmi_long,E0\n",
    "    \n",
    "ports:\n",
    "    E0: mmi_short,W0\n",
    "    W0: mmi_long,W0\n",
    "\"\"\"\n",
    "\n",
    "c = pp.component_from_yaml(yaml)\n",
    "pp.show(c)\n",
    "pp.plotgds(c)"
   ]
  },
  {
   "cell_type": "code",
   "execution_count": null,
   "metadata": {},
   "outputs": [],
   "source": [
    "r = c.routes['mmi_short,E1:mmi_long,E0']\n",
    "r"
   ]
  },
  {
   "cell_type": "code",
   "execution_count": null,
   "metadata": {},
   "outputs": [],
   "source": [
    "r.parent.length"
   ]
  },
  {
   "cell_type": "code",
   "execution_count": null,
   "metadata": {},
   "outputs": [],
   "source": [
    "c.instances"
   ]
  },
  {
   "cell_type": "code",
   "execution_count": null,
   "metadata": {},
   "outputs": [],
   "source": [
    "c.routes"
   ]
  }
 ],
 "metadata": {
  "kernelspec": {
   "display_name": "Python 3",
   "language": "python",
   "name": "python3"
  },
  "language_info": {
   "codemirror_mode": {
    "name": "ipython",
    "version": 3
   },
   "file_extension": ".py",
   "mimetype": "text/x-python",
   "name": "python",
   "nbconvert_exporter": "python",
   "pygments_lexer": "ipython3",
   "version": "3.8.3"
  }
 },
 "nbformat": 4,
 "nbformat_minor": 4
}
