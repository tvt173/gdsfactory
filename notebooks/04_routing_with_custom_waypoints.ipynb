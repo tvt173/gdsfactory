{
 "cells": [
  {
   "cell_type": "markdown",
   "metadata": {},
   "source": [
    "# Routing with custom waypoins\n",
    "\n",
    "Sometimes you need to set up a route with custom waypoints"
   ]
  },
  {
   "cell_type": "code",
   "execution_count": null,
   "metadata": {},
   "outputs": [],
   "source": [
    "import pp\n",
    "\n",
    "c = pp.Component('waypoints_sample')\n",
    "\n",
    "w = pp.c.waveguide()\n",
    "left = c << w\n",
    "right = c << w\n",
    "right.move((100, 80))\n",
    "\n",
    "obstacle = pp.c.rectangle(size=(100, 10))\n",
    "obstacle1 = c << obstacle\n",
    "obstacle2 = c << obstacle\n",
    "obstacle1.ymin=40\n",
    "obstacle2.xmin=25\n",
    "\n",
    "\n",
    "p0x, p0y = left.ports['E0'].midpoint\n",
    "p1x, p1y = right.ports['E0'].midpoint\n",
    "o = 10 # vertical offset to overcome bottom obstacle\n",
    "ytop = 20\n",
    "\n",
    "\n",
    "r = pp.routing.connect_strip_way_points(\n",
    "    [\n",
    "        (p0x, p0y),\n",
    "        (p0x + o, p0y),\n",
    "        (p0x + o, ytop),\n",
    "        (p1x + o, ytop),\n",
    "        (p1x + o, p1y),\n",
    "        (p1x, p1y),\n",
    "    ],\n",
    "    route_filter=pp.routing.connect_strip,\n",
    ")\n",
    "c.add(r)\n",
    "c"
   ]
  },
  {
   "cell_type": "code",
   "execution_count": null,
   "metadata": {},
   "outputs": [],
   "source": []
  }
 ],
 "metadata": {
  "kernelspec": {
   "display_name": "Python 3",
   "language": "python",
   "name": "python3"
  },
  "language_info": {
   "codemirror_mode": {
    "name": "ipython",
    "version": 3
   },
   "file_extension": ".py",
   "mimetype": "text/x-python",
   "name": "python",
   "nbconvert_exporter": "python",
   "pygments_lexer": "ipython3",
   "version": "3.8.3"
  }
 },
 "nbformat": 4,
 "nbformat_minor": 4
}
